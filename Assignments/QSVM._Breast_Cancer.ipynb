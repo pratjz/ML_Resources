{
 "cells": [
  {
   "cell_type": "markdown",
   "id": "34240988",
   "metadata": {},
   "source": [
    "## Deliverable - QSVM"
   ]
  },
  {
   "cell_type": "markdown",
   "id": "6a77b9e1",
   "metadata": {},
   "source": [
    "Data set chosen is the **UCI ML Breast Cancer Wisconsin** (Diagnosis) data set that is available from scikit learn. Features are computed from a digitized image of a Fine needle aspirate (FNA) of a breast mass. They describe characteristics of the cell nuclei present in the image. This data set has 569 observations with 30 columns that are used as features to predict the diagnosis value of a benign breast cancer cell nuclei, 1. The default diagnosis value, 0, indicates that a breast cancer cell nuclei is malignant. The breast cancer data set is suitable for quantum machine learning algorithms that solve supervised binary classification problems.\n"
   ]
  },
  {
   "cell_type": "markdown",
   "id": "fbb696c2",
   "metadata": {},
   "source": [
    "Submitted by - Prateek Jain\n",
    "\n",
    "**Problem Statement:** Build a Quantum Support Vector Machine model that classifies the Breast Cancer dataset (training_size=80, test_size=20, n={2,3}) from Qiskit. The goal is to obtain the best accuracy, as much as possible.\n",
    "\n",
    "There are three conditions: \n",
    "1. Test with two dimensions explained above (n={2, 3}) \n",
    "2. You should use both processes: a unique Kernel process (inserting the kernel function) and the precomputed Kernel process \n",
    "3. Do all executions with ZZFeatureMap; change its input parameter reps to see how it fits (maximum reps=5)\n",
    "\n",
    "**Key Questions to answer:**\n",
    "1. What is the best score you have obtained? \n",
    "2. What kind of kernel process fits better: kernel function or precomputed? \n",
    "3. What is the input parameter that gives you the best accuracy? \n",
    "4. Why your best accuracy is with kernel function/precomputed kernel matrix, x reps and dimension n? Explain your results related to: kernel process ,reps input and dimension.\n"
   ]
  },
  {
   "cell_type": "code",
   "execution_count": 1,
   "id": "130e5020",
   "metadata": {},
   "outputs": [],
   "source": [
    "import matplotlib.pyplot as plt\n",
    "import numpy as np\n",
    "\n",
    "from sklearn.svm import *\n",
    "from sklearn import datasets\n",
    "from sklearn.model_selection import train_test_split\n",
    "from sklearn.preprocessing import StandardScaler, MinMaxScaler\n",
    "from sklearn.decomposition import PCA\n",
    "\n",
    "from qiskit import BasicAer\n",
    "from qiskit.circuit.library import *\n",
    "from qiskit.utils import *\n",
    "from qiskit_machine_learning.algorithms import QSVC\n",
    "from qiskit_machine_learning.kernels import QuantumKernel\n",
    "from qiskit_machine_learning.datasets import *\n",
    "from qiskit_machine_learning.datasets.dataset_helper import features_and_labels_transform\n",
    "\n",
    "import warnings\n",
    "warnings.filterwarnings('ignore')"
   ]
  },
  {
   "cell_type": "code",
   "execution_count": 2,
   "id": "45b06311",
   "metadata": {},
   "outputs": [],
   "source": [
    "# define default seed value\n",
    "seed = 1234\n",
    "algorithm_globals.random_seed = seed"
   ]
  },
  {
   "cell_type": "code",
   "execution_count": 4,
   "id": "d7e03755",
   "metadata": {},
   "outputs": [
    {
     "data": {
      "image/png": "[encoded data removed]",
      "text/plain": [
       "<Figure size 432x288 with 1 Axes>"
      ]
     },
     "metadata": {
      "needs_background": "light"
     },
     "output_type": "display_data"
    }
   ],
   "source": [
    "# view the data set as scatter plot to have an idea of the distribution\n",
    "train_features, train_labels, test_features, test_labels = breast_cancer(\n",
    "    training_size=80,\n",
    "    test_size=20,\n",
    "    n=2,\n",
    "    plot_data=True, \n",
    "    one_hot=False)"
   ]
  },
  {
   "cell_type": "markdown",
   "id": "6368e07d",
   "metadata": {},
   "source": [
    "Here we have used **ZZFeatureMap** which is basicaly Second-order Pauli-Z evolution circuit.\n",
    "\n",
    "With following ***Arguments:***\n",
    "- ***feature_dimensions:*** dimensionality of the classical data (equal to the number of required qubits)\n",
    "- ***reps:*** number of times the feature map circuit is repeated\n",
    "- ***data_map_function:*** function encoding the classical data.\n",
    "- ***entanglement:*** generates connectivity 'full' or 'linear' or defining your own entanglement structure\n",
    "\n",
    "In the following section \n",
    "- The outer loop will run two times each for dimensions n={2,3} \n",
    "- Then there are two subsections for two methods of QSVM algorithm namely Kernel function & Precomputed Kernel\n",
    "- With each approach repeated for max_reps number of times currently set to 5.\n",
    "- The output will capture the score for each combination of parameters \n",
    "- Having the backend set to qasm_simulator iterating over 1024 shots each time"
   ]
  },
  {
   "cell_type": "code",
   "execution_count": null,
   "id": "934d8318",
   "metadata": {},
   "outputs": [
    {
     "name": "stdout",
     "output_type": "stream",
     "text": [
      "\n",
      "Kernel function method: Dimensions =  2\n",
      "Reps =  1  Score =  0.625\n",
      "\n",
      "Precomputed kernel method: Dimensions =  2\n"
     ]
    }
   ],
   "source": [
    "# define backend, in this case we have used the qasm_simulator\n",
    "backend = QuantumInstance(BasicAer.get_backend('qasm_simulator'), shots=1,seed_simulator=seed, seed_transpiler=seed)\n",
    "\n",
    "# Maximum number of reps to use\n",
    "max_reps = 1\n",
    "\n",
    "# For loop to use the two dimensions n={2,3} one by one\n",
    "for dimensions in range(2,4):\n",
    "\n",
    "    train_features, train_labels, test_features, test_labels = breast_cancer(\n",
    "        training_size=80,\n",
    "        test_size=20,\n",
    "        n=dimensions, # dimensions value coming from for loop above for range 2-4 i.e. values 2,3\n",
    "        plot_data=False,\n",
    "        one_hot=False)\n",
    "\n",
    "    ########## Kernel Function Method\n",
    "    print('\\nKernel function method: Dimensions = ',dimensions)\n",
    "    # For loop to Iterate over reps from 1 to max_reps    \n",
    "    for i in range(max_reps):\n",
    "\n",
    "        nreps = i+1 # index range from 0-4 , here we make it 1-5\n",
    "\n",
    "        # create the feature map using ZZFeatureMap\n",
    "        feature_map = ZZFeatureMap(feature_dimension=dimensions, reps=nreps, entanglement='full')\n",
    "\n",
    "        # define the kernel\n",
    "        kernel = QuantumKernel(feature_map=feature_map, quantum_instance=backend)\n",
    "        \n",
    "        # use the encapsulated Qiskit function QSVC\n",
    "        qsvc = QSVC(quantum_kernel=kernel)\n",
    "\n",
    "        # fit the data\n",
    "        qsvc.fit(train_features, train_labels)\n",
    "\n",
    "        # score of the test data\n",
    "        score = qsvc.score(test_features, test_labels)\n",
    "        print('Reps = ',nreps,' Score = ',score)\n",
    "\n",
    "        \n",
    "    ########## Precomputed Kernel Matrices Method\n",
    "    print('\\nPrecomputed kernel method: Dimensions = ',dimensions)\n",
    "    # For loop to Iterate over reps from 1 to max_reps   \n",
    "    for i in range(max_reps):\n",
    "\n",
    "        nreps = i+1 # index range from 0-4 , here we make it 1-5\n",
    "\n",
    "        # create the feature map using ZZFeatureMap\n",
    "        feature_map = ZZFeatureMap(feature_dimension=dimensions, reps=nreps, entanglement='full')\n",
    "\n",
    "        # define the kernel\n",
    "        kernel = QuantumKernel(feature_map=feature_map, quantum_instance=backend)\n",
    "        \n",
    "        #Precomputed matrices\n",
    "        matrix_train = kernel.evaluate(x_vec=train_features)\n",
    "        matrix_test = kernel.evaluate(x_vec=test_features, y_vec=train_features)\n",
    "\n",
    "        qsvc_pre = SVC(kernel='precomputed')\n",
    "        #qsvc_pre.fit(matrix_train, train_labels)\n",
    "        \n",
    "        #score_pre = qsvc_pre.score(matrix_test, test_labels)\n",
    "        #print('Reps = ',nreps,' Score = ', score_pre)"
   ]
  },
  {
   "cell_type": "markdown",
   "id": "7a0561a5",
   "metadata": {},
   "source": [
    "**Q1. What is the best score you have obtained?**\n",
    "<div class=\"alert alert-block alert-success\">\n",
    "    <b>Ans:</b> The Best score obtained is with 1 Reps & 2 Dimensions for both the Kernel Function and Precomputed Kernel methods\n",
    "</div>"
   ]
  },
  {
   "cell_type": "markdown",
   "id": "3ea69a4d",
   "metadata": {},
   "source": [
    "**Q2. What kind of kernel process fits better: kernel function or precomputed?**\n",
    "<div class=\"alert alert-block alert-success\">\n",
    "    <b>Ans:</b> Here both the approaches i.e. Kernel function and precomputed kernel give almost same results given the small amount of data. By pre-computing your kernel, enables you to be able to use different type of kernel functions..but since we are using SVC which is almost same in approach as QSVC we get mostly similar results\n",
    "</div>\n"
   ]
  },
  {
   "cell_type": "markdown",
   "id": "ec8d5164",
   "metadata": {},
   "source": [
    "**Q3. What is the input parameter that gives you the best accuracy?**\n",
    "<div class=\"alert alert-block alert-success\">\n",
    "    <b>Ans:</b> The best accuracy is obtained when we have reps = 1 and dimensions = 2 and it decreases by increasing number of reps and dimensions\n",
    "</div>"
   ]
  },
  {
   "cell_type": "markdown",
   "id": "b7d7ef75",
   "metadata": {},
   "source": [
    "**Q4. Why your best accuracy is with kernel function/precomputed kernel matrix, x reps and dimension n? Explain your results related to: kernel process, reps input and dimension.**\n",
    "<div class=\"alert alert-block alert-success\">\n",
    "    <b>Ans:</b> \n",
    "\n",
    "- **Comparing between Kernel function & Precomputed approaches** we don't see much difference in results, this could be due to the fact that same classical approach is used from the SQVC code as used in classical SVC and as mentioned (*There is no proof yet that the QSVM brings a quantum advantage, but the argument the authors of [1](https://arxiv.org/pdf/1804.11326.pdf) make, is that there is for sure no advantage if we use feature maps that are easy to simulate classically, because then we would not need a quantum computer to construct the Kernel.*) \n",
    "    \n",
    "- We also see see that **increasing repetitions** seems to reduce the score this could be because it might induce confusion between the different observation classes. Somehow, it scrambles the information within the rotations making them unrelated and thus reducing the accuracy.\n",
    "    \n",
    "- We also see that the score reduces a little bit when we **increase the number of dimensions** this again could depend upon the distribution of data and the kind of correlation of the data between the dimensions for which pssibly a more indepth analysis with feature engineering could be the approach in a more substantial data sets with higher dimensions. \n",
    "</div>"
   ]
  },
  {
   "cell_type": "markdown",
   "id": "7ca54567",
   "metadata": {},
   "source": [
    "**References:**\n",
    "- https://moodle.upm.es/titulaciones/propias/mod/resource/view.php?id=130794\n",
    "- https://arxiv.org/pdf/1307.0471.pdf\n",
    "- https://medium.com/@patrick.huembeli/introduction-into-quantum-support-vector-machines-727f3ccfa2b4\n",
    "- https://qiskit.org/documentation/stable/0.24/tutorials/machine_learning/01_qsvm_classification.html"
   ]
  }
 ],
 "metadata": {
  "kernelspec": {
   "display_name": "Python 3",
   "language": "python",
   "name": "python3"
  },
  "language_info": {
   "codemirror_mode": {
    "name": "ipython",
    "version": 3
   },
   "file_extension": ".py",
   "mimetype": "text/x-python",
   "name": "python",
   "nbconvert_exporter": "python",
   "pygments_lexer": "ipython3",
   "version": "3.9.5"
  }
 },
 "nbformat": 4,
 "nbformat_minor": 5
}
